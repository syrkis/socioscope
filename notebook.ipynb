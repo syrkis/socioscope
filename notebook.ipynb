{
 "cells": [
  {
   "cell_type": "code",
   "execution_count": 125,
   "metadata": {},
   "outputs": [],
   "source": [
    "import requests as req\n",
    "import yaml\n",
    "import pandas as pd\n",
    "import os\n",
    "from tqdm import tqdm"
   ]
  },
  {
   "cell_type": "code",
   "execution_count": 126,
   "metadata": {},
   "outputs": [],
   "source": [
    "base      = 'https://wikimedia.org/api/rest_v1/metrics/pageviews/top-per-country'\n",
    "api       = lambda c, d: f\"{base}/{c}/all-access/{d.year}/{str(d.month).zfill(2)}/{str(d.day).zfill(2)}\"\n",
    "headers   = {'User-Agent': 'fjh728@alumni.ku.dk'}\n",
    "cols      = 'article project views_ceil rank'.split()"
   ]
  },
  {
   "cell_type": "code",
   "execution_count": 127,
   "metadata": {},
   "outputs": [],
   "source": [
    "countires = 'DK JP'.split()\n",
    "dates     = pd.date_range('2024/02/01', '2024/02/26')"
   ]
  },
  {
   "cell_type": "code",
   "execution_count": 128,
   "metadata": {},
   "outputs": [],
   "source": [
    "def get_wiki():\n",
    "    if os.path.exists('data/wiki.csv') and 1 == 2:\n",
    "        df = pd.read_csv('data/wiki.csv')\n",
    "    else: \n",
    "        df = pd.DataFrame({}, columns=cols)\n",
    "        for c in countires:\n",
    "            for d in tqdm(dates):\n",
    "                res = req.get(api(c, d), headers=headers).json()['items'][0]['articles']\n",
    "                df  = pd.concat([df, pd.DataFrame(res)], ignore_index=True)\n",
    "            df.to_csv('data/wiki.csv')\n",
    "    return df\n"
   ]
  },
  {
   "cell_type": "code",
   "execution_count": 129,
   "metadata": {},
   "outputs": [
    {
     "name": "stderr",
     "output_type": "stream",
     "text": [
      "100%|██████████| 26/26 [00:15<00:00,  1.65it/s]\n",
      "100%|██████████| 26/26 [00:17<00:00,  1.49it/s]\n"
     ]
    },
    {
     "data": {
      "text/plain": [
       "<bound method DataFrameGroupBy.transform of <pandas.core.groupby.generic.DataFrameGroupBy object at 0x16891f850>>"
      ]
     },
     "execution_count": 129,
     "metadata": {},
     "output_type": "execute_result"
    }
   ],
   "source": [
    "df = get_wiki()\n",
    "df.groupby('project', as_index=False).transform"
   ]
  },
  {
   "cell_type": "code",
   "execution_count": null,
   "metadata": {},
   "outputs": [],
   "source": []
  },
  {
   "cell_type": "code",
   "execution_count": null,
   "metadata": {},
   "outputs": [],
   "source": []
  }
 ],
 "metadata": {
  "kernelspec": {
   "display_name": "Python 3",
   "language": "python",
   "name": "python3"
  },
  "language_info": {
   "codemirror_mode": {
    "name": "ipython",
    "version": 3
   },
   "file_extension": ".py",
   "mimetype": "text/x-python",
   "name": "python",
   "nbconvert_exporter": "python",
   "pygments_lexer": "ipython3",
   "version": "3.11.7"
  }
 },
 "nbformat": 4,
 "nbformat_minor": 2
}
